{
 "cells": [
  {
   "cell_type": "markdown",
   "metadata": {},
   "source": [
    "# importing Dependencies"
   ]
  },
  {
   "cell_type": "code",
   "execution_count": 2,
   "metadata": {
    "execution": {
     "iopub.execute_input": "2021-05-24T06:24:16.776651Z",
     "iopub.status.busy": "2021-05-24T06:24:16.775842Z",
     "iopub.status.idle": "2021-05-24T06:24:16.778724Z",
     "shell.execute_reply": "2021-05-24T06:24:16.778238Z",
     "shell.execute_reply.started": "2021-05-24T06:09:17.280985Z"
    },
    "papermill": {
     "duration": 0.017799,
     "end_time": "2021-05-24T06:24:16.778857",
     "exception": false,
     "start_time": "2021-05-24T06:24:16.761058",
     "status": "completed"
    },
    "tags": []
   },
   "outputs": [],
   "source": [
    "import numpy as np \n",
    "import pandas as pd\n",
    "import matplotlib.pyplot as plt"
   ]
  },
  {
   "cell_type": "markdown",
   "metadata": {
    "papermill": {
     "duration": 0.010523,
     "end_time": "2021-05-24T06:24:16.800182",
     "exception": false,
     "start_time": "2021-05-24T06:24:16.789659",
     "status": "completed"
    },
    "tags": []
   },
   "source": [
    "Reading dataset"
   ]
  },
  {
   "cell_type": "code",
   "execution_count": 3,
   "metadata": {
    "execution": {
     "iopub.execute_input": "2021-05-24T06:24:16.827227Z",
     "iopub.status.busy": "2021-05-24T06:24:16.826592Z",
     "iopub.status.idle": "2021-05-24T06:24:16.849117Z",
     "shell.execute_reply": "2021-05-24T06:24:16.849552Z",
     "shell.execute_reply.started": "2021-05-24T06:09:17.296514Z"
    },
    "papermill": {
     "duration": 0.038504,
     "end_time": "2021-05-24T06:24:16.849767",
     "exception": false,
     "start_time": "2021-05-24T06:24:16.811263",
     "status": "completed"
    },
    "tags": []
   },
   "outputs": [],
   "source": [
    "dataset = pd.read_csv(\"../input/students-performance-in-exams/StudentsPerformance.csv\")\n",
    "X = dataset.drop(['math score', 'lunch','race/ethnicity'],1)\n",
    "y = dataset['math score'].values\n",
    "y = y.reshape(len(y),1)\n"
   ]
  },
  {
   "cell_type": "markdown",
   "metadata": {
    "papermill": {
     "duration": 0.010514,
     "end_time": "2021-05-24T06:24:16.871227",
     "exception": false,
     "start_time": "2021-05-24T06:24:16.860713",
     "status": "completed"
    },
    "tags": []
   },
   "source": [
    "# Data preprocessing\n",
    "\n",
    "Handling catogrical variables using colomun transformer, one hot encoding"
   ]
  },
  {
   "cell_type": "code",
   "execution_count": 4,
   "metadata": {
    "execution": {
     "iopub.execute_input": "2021-05-24T06:24:16.898758Z",
     "iopub.status.busy": "2021-05-24T06:24:16.898047Z",
     "iopub.status.idle": "2021-05-24T06:24:17.855699Z",
     "shell.execute_reply": "2021-05-24T06:24:17.856124Z",
     "shell.execute_reply.started": "2021-05-24T06:09:17.321214Z"
    },
    "papermill": {
     "duration": 0.974086,
     "end_time": "2021-05-24T06:24:17.856291",
     "exception": false,
     "start_time": "2021-05-24T06:24:16.882205",
     "status": "completed"
    },
    "tags": []
   },
   "outputs": [
    {
     "data": {
      "text/plain": [
       "[('encoder1', OneHotEncoder(), ['parental level of education']),\n",
       " ('encoder2', OneHotEncoder(), ['gender']),\n",
       " ('encoder3', OneHotEncoder(), ['test preparation course']),\n",
       " ('encoder4', OneHotEncoder(), ['test preparation course']),\n",
       " ('remainder', 'passthrough', [3, 4])]"
      ]
     },
     "execution_count": 4,
     "metadata": {},
     "output_type": "execute_result"
    }
   ],
   "source": [
    "from sklearn.compose import ColumnTransformer\n",
    "from sklearn.preprocessing import OneHotEncoder, LabelEncoder\n",
    "ct = ColumnTransformer(transformers = [(\"encoder1\", OneHotEncoder(),['parental level of education']), (\"encoder2\", OneHotEncoder(),['gender']),(\"encoder3\", OneHotEncoder(),['test preparation course']), (\"encoder4\", OneHotEncoder(),['test preparation course'])], remainder =\"passthrough\")\n",
    "X = np.array(ct.fit_transform(X))\n"
   ]
  },
  {
   "cell_type": "markdown",
   "metadata": {
    "papermill": {
     "duration": 0.010643,
     "end_time": "2021-05-24T06:24:17.877911",
     "exception": false,
     "start_time": "2021-05-24T06:24:17.867268",
     "status": "completed"
    },
    "tags": []
   },
   "source": [
    "spliting the dataset using train_test_split"
   ]
  },
  {
   "cell_type": "code",
   "execution_count": 5,
   "metadata": {
    "execution": {
     "iopub.execute_input": "2021-05-24T06:24:17.904253Z",
     "iopub.status.busy": "2021-05-24T06:24:17.903655Z",
     "iopub.status.idle": "2021-05-24T06:24:17.971441Z",
     "shell.execute_reply": "2021-05-24T06:24:17.970890Z",
     "shell.execute_reply.started": "2021-05-24T06:09:17.352591Z"
    },
    "papermill": {
     "duration": 0.082724,
     "end_time": "2021-05-24T06:24:17.971569",
     "exception": false,
     "start_time": "2021-05-24T06:24:17.888845",
     "status": "completed"
    },
    "tags": []
   },
   "outputs": [],
   "source": [
    "from sklearn.model_selection import train_test_split\n",
    "X_train, X_test, y_train, y_test = train_test_split(X, y, test_size = 0.2, random_state = 5)\n"
   ]
  },
  {
   "cell_type": "markdown",
   "metadata": {
    "papermill": {
     "duration": 0.01052,
     "end_time": "2021-05-24T06:24:17.993372",
     "exception": false,
     "start_time": "2021-05-24T06:24:17.982852",
     "status": "completed"
    },
    "tags": []
   },
   "source": [
    "scaling the dataset using Standard scaller"
   ]
  },
  {
   "cell_type": "code",
   "execution_count": 6,
   "metadata": {
    "execution": {
     "iopub.execute_input": "2021-05-24T06:24:18.020774Z",
     "iopub.status.busy": "2021-05-24T06:24:18.020152Z",
     "iopub.status.idle": "2021-05-24T06:24:18.024274Z",
     "shell.execute_reply": "2021-05-24T06:24:18.024754Z",
     "shell.execute_reply.started": "2021-05-24T06:09:17.363504Z"
    },
    "papermill": {
     "duration": 0.020519,
     "end_time": "2021-05-24T06:24:18.024910",
     "exception": false,
     "start_time": "2021-05-24T06:24:18.004391",
     "status": "completed"
    },
    "tags": []
   },
   "outputs": [],
   "source": [
    "from sklearn.preprocessing import StandardScaler\n",
    "scx = StandardScaler()\n",
    "scy = StandardScaler()\n",
    "X_train[:,:12]=scx.fit_transform(X_train[:,:12])\n",
    "X_test[:,:12]= scx.transform(X_test[:,:12])\n",
    "y_train = scy.fit_transform(y_train)"
   ]
  },
  {
   "cell_type": "markdown",
   "metadata": {
    "papermill": {
     "duration": 0.010744,
     "end_time": "2021-05-24T06:24:18.046705",
     "exception": false,
     "start_time": "2021-05-24T06:24:18.035961",
     "status": "completed"
    },
    "tags": []
   },
   "source": [
    "# Model building\n",
    "\n",
    "using svr for regression"
   ]
  },
  {
   "cell_type": "code",
   "execution_count": 7,
   "metadata": {
    "execution": {
     "iopub.execute_input": "2021-05-24T06:24:18.071427Z",
     "iopub.status.busy": "2021-05-24T06:24:18.070894Z",
     "iopub.status.idle": "2021-05-24T06:24:18.215487Z",
     "shell.execute_reply": "2021-05-24T06:24:18.214877Z",
     "shell.execute_reply.started": "2021-05-24T06:09:17.381003Z"
    },
    "papermill": {
     "duration": 0.157871,
     "end_time": "2021-05-24T06:24:18.215620",
     "exception": false,
     "start_time": "2021-05-24T06:24:18.057749",
     "status": "completed"
    },
    "tags": []
   },
   "outputs": [
    {
     "data": {
      "text/plain": [
       "SVR()"
      ]
     },
     "execution_count": 7,
     "metadata": {},
     "output_type": "execute_result"
    }
   ],
   "source": [
    "from sklearn.svm import SVR\n",
    "regressor = SVR(kernel = 'rbf')\n",
    "regressor.fit(X_train, y_train.ravel())"
   ]
  },
  {
   "cell_type": "markdown",
   "metadata": {
    "papermill": {
     "duration": 0.011133,
     "end_time": "2021-05-24T06:24:18.238270",
     "exception": false,
     "start_time": "2021-05-24T06:24:18.227137",
     "status": "completed"
    },
    "tags": []
   },
   "source": [
    "# Making prediction"
   ]
  },
  {
   "cell_type": "code",
   "execution_count": 8,
   "metadata": {
    "execution": {
     "iopub.execute_input": "2021-05-24T06:24:18.263992Z",
     "iopub.status.busy": "2021-05-24T06:24:18.263412Z",
     "iopub.status.idle": "2021-05-24T06:24:18.286202Z",
     "shell.execute_reply": "2021-05-24T06:24:18.285552Z",
     "shell.execute_reply.started": "2021-05-24T06:09:17.446456Z"
    },
    "papermill": {
     "duration": 0.036703,
     "end_time": "2021-05-24T06:24:18.286340",
     "exception": false,
     "start_time": "2021-05-24T06:24:18.249637",
     "status": "completed"
    },
    "tags": []
   },
   "outputs": [
    {
     "name": "stdout",
     "output_type": "stream",
     "text": [
      "[59.48 78.6  61.85 50.44 57.49 65.74 72.84 58.36 50.83 58.83 66.46 73.98\n",
      " 67.26 86.76 76.12 51.73 71.66 54.   50.4  68.39 70.96 71.5  51.78 69.55\n",
      " 63.19 55.13 53.24 56.83 59.88 60.71 74.24 74.57 63.57 57.9  85.43 54.16\n",
      " 81.21 41.11 82.57 79.18 79.5  41.54 89.13 56.21 65.6  47.3  78.47 50.2\n",
      " 48.71 77.74 67.56 48.94 81.76 57.21 75.38 77.54 81.19 63.76 47.16 51.95\n",
      " 44.15 78.63 37.22 63.7  79.32 73.33 60.25 41.87 60.23 56.11 77.23 75.34\n",
      " 69.57 55.53 52.65 50.57 68.2  68.65 43.15 70.78 52.27 54.97 67.39 57.75\n",
      " 79.17 67.29 63.54 72.29 83.34 80.21 69.62 55.36 63.3  60.07 75.26 58.68\n",
      " 42.74 83.2  51.63 74.84 90.36 60.04 73.69 71.93 74.13 56.81 56.46 76.71\n",
      " 70.64 56.42 51.68 56.14 70.23 82.2  69.46 61.9  78.29 85.47 84.66 86.6\n",
      " 66.46 56.83 72.22 70.66 74.39 80.92 68.37 71.59 26.35 75.77 50.17 72.6\n",
      " 67.88 59.52 87.85 63.88 82.65 67.29 53.05 65.27 46.   46.58 52.5  74.75\n",
      " 69.95 78.06 69.99 80.15 74.17 50.82 72.72 66.72 87.99 65.52 84.39 68.4\n",
      " 64.52 67.5  79.38 52.17 75.38 54.19 77.36 65.87 80.21 69.07 60.23 72.31\n",
      " 68.86 75.03 77.29 65.34 48.28 81.12 73.13 78.83 61.91 68.1  67.32 51.97\n",
      " 61.16 70.1  58.75 69.93 68.49 74.33 71.47 54.42 75.1  66.19 74.67 63.52\n",
      " 74.77 90.44 79.84 54.49 63.5  35.9  54.18 89.71]\n",
      "[[ 59.48  64.  ]\n",
      " [ 78.6   76.  ]\n",
      " [ 61.85  77.  ]\n",
      " [ 50.44  40.  ]\n",
      " [ 57.49  73.  ]\n",
      " [ 65.74  65.  ]\n",
      " [ 72.84  74.  ]\n",
      " [ 58.36  62.  ]\n",
      " [ 50.83  45.  ]\n",
      " [ 58.83  55.  ]\n",
      " [ 66.46  63.  ]\n",
      " [ 73.98  74.  ]\n",
      " [ 67.26  61.  ]\n",
      " [ 86.76  91.  ]\n",
      " [ 76.12  75.  ]\n",
      " [ 51.73  57.  ]\n",
      " [ 71.66  79.  ]\n",
      " [ 54.    46.  ]\n",
      " [ 50.4   48.  ]\n",
      " [ 68.39  76.  ]\n",
      " [ 70.96  61.  ]\n",
      " [ 71.5   70.  ]\n",
      " [ 51.78  49.  ]\n",
      " [ 69.55  56.  ]\n",
      " [ 63.19  53.  ]\n",
      " [ 55.13  49.  ]\n",
      " [ 53.24  47.  ]\n",
      " [ 56.83  55.  ]\n",
      " [ 59.88  50.  ]\n",
      " [ 60.71  58.  ]\n",
      " [ 74.24  79.  ]\n",
      " [ 74.57  88.  ]\n",
      " [ 63.57  66.  ]\n",
      " [ 57.9   58.  ]\n",
      " [ 85.43  77.  ]\n",
      " [ 54.16  64.  ]\n",
      " [ 81.21  94.  ]\n",
      " [ 41.11  47.  ]\n",
      " [ 82.57  77.  ]\n",
      " [ 79.18  85.  ]\n",
      " [ 79.5   83.  ]\n",
      " [ 41.54  41.  ]\n",
      " [ 89.13  97.  ]\n",
      " [ 56.21  62.  ]\n",
      " [ 65.6   70.  ]\n",
      " [ 47.3   41.  ]\n",
      " [ 78.47  87.  ]\n",
      " [ 50.2   48.  ]\n",
      " [ 48.71  44.  ]\n",
      " [ 77.74  77.  ]\n",
      " [ 67.56  69.  ]\n",
      " [ 48.94  42.  ]\n",
      " [ 81.76  97.  ]\n",
      " [ 57.21  42.  ]\n",
      " [ 75.38  69.  ]\n",
      " [ 77.54  77.  ]\n",
      " [ 81.19  87.  ]\n",
      " [ 63.76  68.  ]\n",
      " [ 47.16  48.  ]\n",
      " [ 51.95  44.  ]\n",
      " [ 44.15  40.  ]\n",
      " [ 78.63  86.  ]\n",
      " [ 37.22  32.  ]\n",
      " [ 63.7   80.  ]\n",
      " [ 79.32  82.  ]\n",
      " [ 73.33  74.  ]\n",
      " [ 60.25  64.  ]\n",
      " [ 41.87  53.  ]\n",
      " [ 60.23  56.  ]\n",
      " [ 56.11  64.  ]\n",
      " [ 77.23  79.  ]\n",
      " [ 75.34  72.  ]\n",
      " [ 69.57  74.  ]\n",
      " [ 55.53  70.  ]\n",
      " [ 52.65  58.  ]\n",
      " [ 50.57  53.  ]\n",
      " [ 68.2   70.  ]\n",
      " [ 68.65  67.  ]\n",
      " [ 43.15  39.  ]\n",
      " [ 70.78  70.  ]\n",
      " [ 52.27  53.  ]\n",
      " [ 54.97  61.  ]\n",
      " [ 67.39  62.  ]\n",
      " [ 57.75  71.  ]\n",
      " [ 79.17  79.  ]\n",
      " [ 67.29  76.  ]\n",
      " [ 63.54  77.  ]\n",
      " [ 72.29  65.  ]\n",
      " [ 83.34  93.  ]\n",
      " [ 80.21  85.  ]\n",
      " [ 69.62  67.  ]\n",
      " [ 55.36  61.  ]\n",
      " [ 63.3   67.  ]\n",
      " [ 60.07  54.  ]\n",
      " [ 75.26  75.  ]\n",
      " [ 58.68  72.  ]\n",
      " [ 42.74  34.  ]\n",
      " [ 83.2   81.  ]\n",
      " [ 51.63  46.  ]\n",
      " [ 74.84  78.  ]\n",
      " [ 90.36  87.  ]\n",
      " [ 60.04  51.  ]\n",
      " [ 73.69  65.  ]\n",
      " [ 71.93  57.  ]\n",
      " [ 74.13  84.  ]\n",
      " [ 56.81  54.  ]\n",
      " [ 56.46  54.  ]\n",
      " [ 76.71  81.  ]\n",
      " [ 70.64  68.  ]\n",
      " [ 56.42  69.  ]\n",
      " [ 51.68  49.  ]\n",
      " [ 56.14  54.  ]\n",
      " [ 70.23  67.  ]\n",
      " [ 82.2   86.  ]\n",
      " [ 69.46  78.  ]\n",
      " [ 61.9   63.  ]\n",
      " [ 78.29  81.  ]\n",
      " [ 85.47  82.  ]\n",
      " [ 84.66  82.  ]\n",
      " [ 86.6   91.  ]\n",
      " [ 66.46  61.  ]\n",
      " [ 56.83  58.  ]\n",
      " [ 72.22  63.  ]\n",
      " [ 70.66  55.  ]\n",
      " [ 74.39  87.  ]\n",
      " [ 80.92  90.  ]\n",
      " [ 68.37  71.  ]\n",
      " [ 71.59  81.  ]\n",
      " [ 26.35   0.  ]\n",
      " [ 75.77  59.  ]\n",
      " [ 50.17  47.  ]\n",
      " [ 72.6   70.  ]\n",
      " [ 67.88  75.  ]\n",
      " [ 59.52  50.  ]\n",
      " [ 87.85  96.  ]\n",
      " [ 63.88  57.  ]\n",
      " [ 82.65  89.  ]\n",
      " [ 67.29  68.  ]\n",
      " [ 53.05  49.  ]\n",
      " [ 65.27  63.  ]\n",
      " [ 46.    46.  ]\n",
      " [ 46.58  48.  ]\n",
      " [ 52.5   48.  ]\n",
      " [ 74.75  89.  ]\n",
      " [ 69.95  71.  ]\n",
      " [ 78.06  68.  ]\n",
      " [ 69.99  65.  ]\n",
      " [ 80.15  83.  ]\n",
      " [ 74.17  73.  ]\n",
      " [ 50.82  48.  ]\n",
      " [ 72.72  75.  ]\n",
      " [ 66.72  75.  ]\n",
      " [ 87.99  81.  ]\n",
      " [ 65.52  68.  ]\n",
      " [ 84.39  98.  ]\n",
      " [ 68.4   71.  ]\n",
      " [ 64.52  73.  ]\n",
      " [ 67.5   72.  ]\n",
      " [ 79.38  74.  ]\n",
      " [ 52.17  62.  ]\n",
      " [ 75.38  65.  ]\n",
      " [ 54.19  52.  ]\n",
      " [ 77.36  75.  ]\n",
      " [ 65.87  62.  ]\n",
      " [ 80.21  77.  ]\n",
      " [ 69.07  67.  ]\n",
      " [ 60.23  62.  ]\n",
      " [ 72.31  72.  ]\n",
      " [ 68.86  69.  ]\n",
      " [ 75.03  82.  ]\n",
      " [ 77.29  81.  ]\n",
      " [ 65.34  76.  ]\n",
      " [ 48.28  50.  ]\n",
      " [ 81.12  79.  ]\n",
      " [ 73.13  76.  ]\n",
      " [ 78.83  89.  ]\n",
      " [ 61.91  59.  ]\n",
      " [ 68.1   57.  ]\n",
      " [ 67.32  77.  ]\n",
      " [ 51.97  53.  ]\n",
      " [ 61.16  76.  ]\n",
      " [ 70.1   77.  ]\n",
      " [ 58.75  49.  ]\n",
      " [ 69.93  64.  ]\n",
      " [ 68.49  68.  ]\n",
      " [ 74.33  91.  ]\n",
      " [ 71.47  75.  ]\n",
      " [ 54.42  35.  ]\n",
      " [ 75.1   83.  ]\n",
      " [ 66.19  63.  ]\n",
      " [ 74.67  78.  ]\n",
      " [ 63.52  58.  ]\n",
      " [ 74.77  71.  ]\n",
      " [ 90.44 100.  ]\n",
      " [ 79.84  79.  ]\n",
      " [ 54.49  53.  ]\n",
      " [ 63.5   66.  ]\n",
      " [ 35.9   36.  ]\n",
      " [ 54.18  59.  ]\n",
      " [ 89.71  96.  ]]\n"
     ]
    }
   ],
   "source": [
    "y_pred = scy.inverse_transform(regressor.predict(X_test))\n",
    "np.set_printoptions(precision = 2)\n",
    "print(y_pred)\n",
    "print(np.concatenate((y_pred.reshape(len(y_pred),1),y_test.reshape(len(y_test),1)),1))"
   ]
  },
  {
   "cell_type": "markdown",
   "metadata": {
    "papermill": {
     "duration": 0.015433,
     "end_time": "2021-05-24T06:24:18.313543",
     "exception": false,
     "start_time": "2021-05-24T06:24:18.298110",
     "status": "completed"
    },
    "tags": []
   },
   "source": [
    "Preformance measurement using r2socre"
   ]
  },
  {
   "cell_type": "code",
   "execution_count": 9,
   "metadata": {
    "execution": {
     "iopub.execute_input": "2021-05-24T06:24:18.347481Z",
     "iopub.status.busy": "2021-05-24T06:24:18.346606Z",
     "iopub.status.idle": "2021-05-24T06:24:18.355931Z",
     "shell.execute_reply": "2021-05-24T06:24:18.356603Z",
     "shell.execute_reply.started": "2021-05-24T06:09:17.476941Z"
    },
    "papermill": {
     "duration": 0.027753,
     "end_time": "2021-05-24T06:24:18.356873",
     "exception": false,
     "start_time": "2021-05-24T06:24:18.329120",
     "status": "completed"
    },
    "tags": []
   },
   "outputs": [
    {
     "data": {
      "text/plain": [
       "0.7732886671259396"
      ]
     },
     "execution_count": 9,
     "metadata": {},
     "output_type": "execute_result"
    }
   ],
   "source": [
    "from sklearn.metrics import r2_score\n",
    "r2_score(y_test, y_pred)"
   ]
  },
  {
   "cell_type": "markdown",
   "metadata": {
    "papermill": {
     "duration": 0.012783,
     "end_time": "2021-05-24T06:24:18.385446",
     "exception": false,
     "start_time": "2021-05-24T06:24:18.372663",
     "status": "completed"
    },
    "tags": []
   },
   "source": [
    "cross validation of model using srocc_val_score"
   ]
  },
  {
   "cell_type": "code",
   "execution_count": 10,
   "metadata": {
    "execution": {
     "iopub.execute_input": "2021-05-24T06:24:18.418824Z",
     "iopub.status.busy": "2021-05-24T06:24:18.418162Z",
     "iopub.status.idle": "2021-05-24T06:24:18.464392Z",
     "shell.execute_reply": "2021-05-24T06:24:18.463907Z",
     "shell.execute_reply.started": "2021-05-24T06:09:17.487465Z"
    },
    "papermill": {
     "duration": 0.066336,
     "end_time": "2021-05-24T06:24:18.464518",
     "exception": false,
     "start_time": "2021-05-24T06:24:18.398182",
     "status": "completed"
    },
    "tags": []
   },
   "outputs": [
    {
     "name": "stdout",
     "output_type": "stream",
     "text": [
      "Accuracy: 51.58 %\n",
      "Standard davition: 5.21%\n"
     ]
    }
   ],
   "source": [
    "from sklearn.model_selection import cross_val_score\n",
    "accuracies = cross_val_score(estimator = regressor, X = X_test, y= y_test.ravel(), cv = 10)\n",
    "print(\"Accuracy: {:.2f} %\".format(accuracies.mean()*100))\n",
    "print(\"Standard davition: {:.2f}%\".format(accuracies.std()*100))\n"
   ]
  },
  {
   "cell_type": "markdown",
   "metadata": {
    "papermill": {
     "duration": 0.012029,
     "end_time": "2021-05-24T06:24:18.488975",
     "exception": false,
     "start_time": "2021-05-24T06:24:18.476946",
     "status": "completed"
    },
    "tags": []
   },
   "source": [
    "# Hyperparameter tuning\n",
    " Using Grid_search_cv"
   ]
  },
  {
   "cell_type": "code",
   "execution_count": 11,
   "metadata": {
    "execution": {
     "iopub.execute_input": "2021-05-24T06:24:18.520062Z",
     "iopub.status.busy": "2021-05-24T06:24:18.519457Z",
     "iopub.status.idle": "2021-05-24T06:24:29.380078Z",
     "shell.execute_reply": "2021-05-24T06:24:29.380759Z",
     "shell.execute_reply.started": "2021-05-24T06:09:17.547238Z"
    },
    "papermill": {
     "duration": 10.879834,
     "end_time": "2021-05-24T06:24:29.380994",
     "exception": false,
     "start_time": "2021-05-24T06:24:18.501160",
     "status": "completed"
    },
    "tags": []
   },
   "outputs": [
    {
     "name": "stdout",
     "output_type": "stream",
     "text": [
      "best accuracy: 83.92%\n",
      "best parameter  {'C': 0.75, 'kernel': 'linear'}\n"
     ]
    }
   ],
   "source": [
    "from sklearn.model_selection import GridSearchCV\n",
    "parameters = [{'C': [0.25, 0.5, 0.75, 1], 'kernel': ['linear']},\n",
    "              {'C': [0.25, 0.5, 0.75, 1], 'kernel': ['rbf'], 'gamma': [0.1, 0.2, 0.3, 0.4, 0.5, 0.6, 0.7, 0.8,0.9,]}]\n",
    "grid_search = GridSearchCV(estimator = regressor,\n",
    "                          param_grid = parameters,\n",
    "                          scoring = 'r2',\n",
    "                           n_jobs = -1)\n",
    "grid_search.fit(X_train, y_train.ravel())\n",
    "best_accuracy = grid_search.best_score_\n",
    "best_prameter = grid_search.best_params_\n",
    "print(\"best accuracy: {:.2f}%\". format(best_accuracy*100))\n",
    "print(\"best parameter \", best_prameter)"
   ]
  }
 ],
 "metadata": {
  "kernelspec": {
   "display_name": "Python 3",
   "language": "python",
   "name": "python3"
  },
  "language_info": {
   "codemirror_mode": {
    "name": "ipython",
    "version": 3
   },
   "file_extension": ".py",
   "mimetype": "text/x-python",
   "name": "python",
   "nbconvert_exporter": "python",
   "pygments_lexer": "ipython3",
   "version": "3.8.5"
  },
  "papermill": {
   "default_parameters": {},
   "duration": 20.783841,
   "end_time": "2021-05-24T06:24:30.209252",
   "environment_variables": {},
   "exception": null,
   "input_path": "__notebook__.ipynb",
   "output_path": "__notebook__.ipynb",
   "parameters": {},
   "start_time": "2021-05-24T06:24:09.425411",
   "version": "2.3.3"
  }
 },
 "nbformat": 4,
 "nbformat_minor": 5
}
